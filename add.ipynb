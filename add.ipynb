{
  "nbformat": 4,
  "nbformat_minor": 0,
  "metadata": {
    "colab": {
      "provenance": []
    },
    "kernelspec": {
      "name": "python3",
      "display_name": "Python 3"
    },
    "language_info": {
      "name": "python"
    }
  },
  "cells": [
    {
      "cell_type": "code",
      "execution_count": null,
      "metadata": {
        "id": "3fchE9DG1-wu"
      },
      "outputs": [],
      "source": [
        "\n",
        "import os\n",
        "from tqdm import tqdm\n",
        "packages = [\n",
        "            \"git clone https://github.com/vorstcavry/vorstcavry-tunnels /root/vorst-cavry/extensions/tunnels\",\n",
        "            \"aria2c --console-log-level=error -c -x 16 -s 16 -k 1M https://huggingface.co/vorstcavry/test/resolve/main/styles.csv -d /root/vorst-cavry -o styles.csv\",\n",
        "            \"aria2c --console-log-level=error -c -x 16 -s 16 -k 1M https://huggingface.co/embed/upscale/resolve/main/4x-UltraSharp.pth -d /root/vorst-cavry/models/ESRGAN -o 4x-UltraSharp.pth\",\n",
        "            \"wget https://raw.githubusercontent.com/vorstcavry/s-scripts/main/run_n_times.py -O /root/vorst-cavry/scripts/run_n_times.py\"\n",
        "]\n",
        "for install in tqdm(packages, desc=print(\"Install tunnel dan runtime script...\")):\n",
        "    os.system(install)\n",
        "\n",
        "import os\n",
        "from tqdm import tqdm\n",
        "packages = [\n",
        "            \"git clone https://github.com/vorstcavry/embeddings /root/vorst-cavry/embeddings/negative\",\n",
        "            \"git clone https://github.com/vorstcavry/Checkpoint-Model /root/vorst-cavry/models/Stable-diffusion/Checkpoint-Model\",\n",
        "            \"git clone https://github.com/vorstcavry/ncpt_colab_timer /root/vorst-cavry/extensions/ncpt_colab_timer\",\n",
        "            \"git clone https://github.com/vorstcavry/static /root/vorst-cavry/static\"\n",
        "]\n",
        "for install in tqdm(packages, desc=print(\"Install Bahan tambahan...\")):\n",
        "    os.system(install)\n",
        "\n",
        "\n",
        "import os\n",
        "from tqdm import tqdm\n",
        "packages = [\n",
        "            \"rm -rf /root/vorst-cavry/models/Stable-diffusion/Checkpoint-Model/.git\",\n",
        "            \"rm -rf /root/vorst-cavry/embeddings/negative/.git\",\n",
        "]\n",
        "for install in tqdm(packages, desc=print(\"Menghapus bahan yang tidak dibutuhkan...\")):\n",
        "    os.system(install)\n",
        "\n",
        "\n",
        "\n",
        "import os\n",
        "from tqdm import tqdm\n",
        "packages = [\n",
        "\"aria2c --console-log-level=error -c -x 16 -s 16 -k 1M https://huggingface.co/stabilityai/sd-vae-ft-mse-original/resolve/main/vae-ft-mse-840000-ema-pruned.ckpt -d /root/vorst-cavry/models/VAE -o vae-ft-mse-840000-ema-pruned.ckpt\",\n",
        "             ]\n",
        "for install in tqdm(packages, desc=print(\"Install VAE tambahan...\")):\n",
        "    os.system(install)"
      ]
    }
  ]
}