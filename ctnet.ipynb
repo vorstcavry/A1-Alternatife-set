{
  "nbformat": 4,
  "nbformat_minor": 0,
  "metadata": {
    "colab": {
      "provenance": []
    },
    "kernelspec": {
      "name": "python3",
      "display_name": "Python 3"
    },
    "language_info": {
      "name": "python"
    }
  },
  "cells": [
    {
      "cell_type": "code",
      "execution_count": null,
      "metadata": {
        "id": "3fchE9DG1-wu"
      },
      "outputs": [],
      "source": [
        "import os\n",
        "from tqdm import tqdm\n",
        "\n",
        "packages = [\n",
        "            \"aria2c --console-log-level=error -c -x 16 -s 16 -k 1M https://huggingface.co/comfyanonymous/ControlNet-v1-1_fp16_safetensors/resolve/main/control_v11p_sd15_canny_fp16.safetensors -d /root/vorst-cavry/models/ControlNet -o control_v11p_sd15_canny.safetensors\",\n",
        "            \"aria2c --console-log-level=error -c -x 16 -s 16 -k 1M https://huggingface.co/comfyanonymous/ControlNet-v1-1_fp16_safetensors/resolve/main/control_v11p_sd15_inpaint_fp16.safetensors -d /root/vorst-cavry/models/ControlNet -o control_v11p_sd15_inpaint.safetensors\",\n",
        "            \"aria2c --console-log-level=error -c -x 16 -s 16 -k 1M https://huggingface.co/comfyanonymous/ControlNet-v1-1_fp16_safetensors/resolve/main/control_v11p_sd15_lineart_fp16.safetensors -d /root/vorst-cavry/models/ControlNet -o control_v11f1p_sd15_depth.safetensors\",\n",
        "            \"aria2c --console-log-level=error -c -x 16 -s 16 -k 1M https://huggingface.co/comfyanonymous/ControlNet-v1-1_fp16_safetensors/resolve/main/control_v11p_sd15_openpose_fp16.safetensors -d /root/vorst-cavry/models/ControlNet -o control_v11p_sd15_openpose.safetensors\",\n",
        "            \"aria2c --console-log-level=error -c -x 16 -s 16 -k 1M https://huggingface.co/comfyanonymous/ControlNet-v1-1_fp16_safetensors/resolve/main/control_v11p_sd15s2_lineart_anime_fp16.safetensors -d /root/vorst-cavry/models/ControlNet -o control_v11p_sd15s2_lineart_anime.safetensors\"\n",
        "]\n",
        "for install in tqdm(packages, desc=print(\"Install controlnet...\")):\n",
        "    os.system(install)"
      ]
    }
  ]
}