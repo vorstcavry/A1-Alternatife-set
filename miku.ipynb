{
  "nbformat": 4,
  "nbformat_minor": 0,
  "metadata": {
    "colab": {
      "provenance": []
    },
    "kernelspec": {
      "name": "python3",
      "display_name": "Python 3"
    },
    "language_info": {
      "name": "python"
    }
  },
  "cells": [
    {
      "cell_type": "code",
      "execution_count": null,
      "metadata": {
        "id": "KS35PAeXpFGF"
      },
      "outputs": [],
      "source": [
        "!rm -r /root/vorst-cavry\n",
        "!wget https://huggingface.co/NoCrypt/fast-repo/resolve/main/ubuntu_deps.zip ; unzip ubuntu_deps.zip -d /root/deps ; dpkg -i /root/deps/* ; rm -rf ubuntu_deps.zip /root/deps/\n",
        "!echo -e \"https://huggingface.co/NoCrypt/fast-repo/resolve/main/dep.tar.lz4\\n\\tout=dep.tar.lz4\\nhttps://huggingface.co/NoCrypt/fast-repo/resolve/main/repo.tar.lz4\\n\\tout=repo.tar.lz4\\nhttps://huggingface.co/NoCrypt/fast-repo/resolve/main/cache.tar.lz4\\n\\tout=cache.tar.lz4\\n\" \\\n",
        "  | aria2c -i- -j5 -x16 -s16 -k1M -c\n",
        "\n",
        "!tar -xI lz4 -f dep.tar.lz4 --overwrite-dir --directory=/usr/local/lib/python3.10/dist-packages/ #(manual dir)\n",
        "!tar -xI lz4 -f repo.tar.lz4 --directory=/ #/root/vorst-cavry/ (auto dir)\n",
        "!tar -xI lz4 -f cache.tar.lz4 --directory=/ #/root/.cache/huggingface (auto dir)\n",
        "\n",
        "!rm -rf /root/dep.tar.lz4 /root/repo.tar.lz4 /root/cache.tar.lz4\n",
        "!mv /content/sdw /root/vorst-cavry\n",
        "!sed -i 's@\"gradio_theme\":.*@\"gradio_theme\": \"NoCrypt/miku\",@' {config_dir}\n",
        ""
      ]
    }
  ]
}