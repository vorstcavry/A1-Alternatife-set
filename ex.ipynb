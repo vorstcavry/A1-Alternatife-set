{
  "nbformat": 4,
  "nbformat_minor": 0,
  "metadata": {
    "colab": {
      "provenance": []
    },
    "kernelspec": {
      "name": "python3",
      "display_name": "Python 3"
    },
    "language_info": {
      "name": "python"
    }
  },
  "cells": [
    {
      "cell_type": "code",
      "execution_count": null,
      "metadata": {
        "id": "3fchE9DG1-wu"
      },
      "outputs": [],
      "source": [
        "import os\n",
        "from tqdm import tqdm\n",
        "packages = [\n",
        "            \"git clone https://tinyurl.com/controlnet-s\",\n",
        "            #\"git clone https://tinyurl.com/depth-lib-hand\",\n",
        "            #\"git clone https://github.com/hnmr293/posex\",\n",
        "            \"git clone https://github.com/BlafKing/sd-civitai-browser-plus\",\n",
        "            \"git clone https://github.com/vorstcavry/images-browser\",\n",
        "            \"git clone https://github.com/Iyashinouta/sd-model-downloader\",\n",
        "            \"git clone https://github.com/IDEA-Research/DWPose\",\n",
        "            \"git clone https://tinyurl.com/additional-networks-s\",\n",
        "            #\"git clone https://github.com/fkunn1326/openpose-editor\",\n",
        "            \"git clone https://tinyurl.com/openpose-edit\",\n",
        "            \"git clone https://github.com/NoCrypt/inpaint-nav\",\n",
        "            \"git clone https://github.com/vorstcavry/tagcomplete\",\n",
        "            \"git clone https://tinyurl.com/batchlink-download\",\n",
        "            \"git clone https://tinyurl.com/aspect-ratio-v\",\n",
        "            \"git clone https://github.com/pantat88/sd-fast-pnginfo\",\n",
        "            \"git clone https://github.com/ahgsql/StyleSelectorXL\",\n",
        "            \"git clone https://github.com/vorstcavry/static\",\n",
        "\n",
        "\n",
        "]\n",
        "for install in tqdm(packages, desc=print(\"Memasang Ekstension...\")):\n",
        "    os.system(install)"
      ]
    }
  ]
}