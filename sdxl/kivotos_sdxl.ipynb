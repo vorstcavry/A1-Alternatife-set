{
  "nbformat": 4,
  "nbformat_minor": 0,
  "metadata": {
    "colab": {
      "provenance": []
    },
    "kernelspec": {
      "name": "python3",
      "display_name": "Python 3"
    },
    "language_info": {
      "name": "python"
    }
  },
  "cells": [
    {
      "cell_type": "code",
      "execution_count": null,
      "metadata": {
        "id": "3fchE9DG1-wu"
      },
      "outputs": [],
      "source": [
        "from IPython import get_ipython\n",
        "from IPython.display import display\n",
        "import os\n",
        "import subprocess\n",
        "from tqdm import tqdm\n",
        "packages = [\n",
        "            \"apt-get install -y python3.10-venv\",\n",
        "            \"pip install spaces\",\n",
        "]\n",
        "for install in tqdm(packages, desc=print(\"Tunggu aja...\")):\n",
        "    os.system(install)\n",
        "ROOT_DIR = \"/content\"\n",
        "REPO_URL = \"https://huggingface.co/spaces/Linaqruf/kivotos-xl-2.0\"\n",
        "REPO_DIR = os.path.join(ROOT_DIR, \"kivotos-xl-2.0\")\n",
        "\n",
        "os.environ[\"HF_TOKEN\"] = \"\"\n",
        "os.environ[\"ENABLE_REFINER_PROMPT\"] = \"1\"\n",
        "\n",
        "def clone(url, dir, branch=None):\n",
        "    subprocess.check_call([\"git\", \"clone\", url, dir], stdout=subprocess.DEVNULL, stderr=subprocess.DEVNULL)\n",
        "    if branch:\n",
        "        subprocess.check_call([\"git\", \"checkout\", branch], cwd=dir, stdout=subprocess.DEVNULL, stderr=subprocess.DEVNULL)\n",
        "\n",
        "def install_deps(dir):\n",
        "    subprocess.check_call([\"pip\", \"install\", \"-r\", \"requirements.txt\", \"--cache-dir\", \"./.cache\"], cwd=dir)\n",
        "\n",
        "def main():\n",
        "    if not os.path.exists(REPO_DIR):\n",
        "        print(f\"Cloning Repository to {REPO_DIR}\")\n",
        "        clone(REPO_URL, REPO_DIR)\n",
        "        print(f\"Installing required python libraries\")\n",
        "        install_deps(REPO_DIR)\n",
        "        print(\"Done!\")\n",
        "\n",
        "    os.chdir(REPO_DIR)\n",
        "    !python -m venv .venv\n",
        "    !source .venv/bin/activate\n",
        "    %cd /content/kivotos-xl-2.0\n",
        "    !python app.py\n",
        "\n",
        "if __name__ == \"__main__\":\n",
        "    main()"
      ]
    }
  ]
}
